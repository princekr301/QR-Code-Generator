{
 "cells": [
  {
   "cell_type": "markdown",
   "id": "2280406b",
   "metadata": {},
   "source": [
    "Prince kumar sharma\n",
    "# Genrate QR Code using Python"
   ]
  },
  {
   "attachments": {
    "frame.png": {
     "image/png": "[encoded data removed]"
    }
   },
   "cell_type": "markdown",
   "id": "25b95c07",
   "metadata": {},
   "source": [
    "![frame.png](attachment:frame.png)"
   ]
  },
  {
   "cell_type": "markdown",
   "id": "d834cd64",
   "metadata": {},
   "source": [
    "## What is QR Code ?\n",
    "\n",
    "QR code stands for Quick Response code. It is a two-dimensional barcode that consists of black squares arranged on a white background. QR codes can store a significant amount of information, including text, URLs, contact details, and more.\n",
    "\n",
    "QR codes are widely used for various purposes such as marketing, advertising, inventory management, ticketing, and payment systems. They can be scanned using a smartphone or a QR code reader, which can quickly decode the information embedded in the code.\n",
    "\n",
    "QR codes have gained popularity due to their ease of use, high data capacity, and fast readability. They can be easily generated using online QR code generators or by using programming libraries in different programming languages.\n",
    "\n",
    "QR codes have become an essential tool for businesses and individuals to provide quick access to information and enhance user experience in a wide range of applications."
   ]
  },
  {
   "cell_type": "markdown",
   "id": "f0e0dd40",
   "metadata": {},
   "source": [
    "## Step install QR Code Library\n",
    "####  pip install qrcode[pil]"
   ]
  },
  {
   "cell_type": "markdown",
   "id": "b52512de",
   "metadata": {},
   "source": [
    "### Now import the qrcode Library in your Jupiter Notebook or other extenction"
   ]
  },
  {
   "cell_type": "code",
   "execution_count": 8,
   "id": "568c7af4",
   "metadata": {},
   "outputs": [],
   "source": [
    "import qrcode"
   ]
  },
  {
   "cell_type": "code",
   "execution_count": 4,
   "id": "fd3a8399",
   "metadata": {},
   "outputs": [
    {
     "data": {
      "image/png": "[encoded data removed]",
      "text/plain": [
       "<PIL.Image.Image image mode=1 size=330x330>"
      ]
     },
     "execution_count": 4,
     "metadata": {},
     "output_type": "execute_result"
    }
   ],
   "source": [
    "qr = qrcode.make(\"Hii this is prince kumar\")\n",
    "qr.get_image()"
   ]
  },
  {
   "cell_type": "code",
   "execution_count": 5,
   "id": "660c5651",
   "metadata": {},
   "outputs": [],
   "source": [
    "x={\"Name\": \"Prince kumar sharma\",\"Age\":23,\"Profession\":\"Data scientist\",\"Contact Number\":8873276380,\"Location\":\"Saket\"}"
   ]
  },
  {
   "cell_type": "code",
   "execution_count": 6,
   "id": "4e6f078c",
   "metadata": {},
   "outputs": [
    {
     "data": {
      "image/png": "[encoded data removed]",
      "text/plain": [
       "<PIL.Image.Image image mode=1 size=570x570>"
      ]
     },
     "execution_count": 6,
     "metadata": {},
     "output_type": "execute_result"
    }
   ],
   "source": [
    "qr=qrcode.make(x)\n",
    "qr.get_image()"
   ]
  },
  {
   "cell_type": "markdown",
   "id": "706a5dfd",
   "metadata": {},
   "source": [
    " * You can Resize the QR Code with the help of resize function thats given in  this library\n",
    " * You can save this QR Code in system with different types of extension like JPEG ,PNG ,PDF, ETC......"
   ]
  },
  {
   "cell_type": "markdown",
   "id": "0ebf9688",
   "metadata": {},
   "source": [
    "# If you want to save this QR code then use this Code"
   ]
  },
  {
   "cell_type": "code",
   "execution_count": 9,
   "id": "083b8410",
   "metadata": {},
   "outputs": [
    {
     "name": "stdout",
     "output_type": "stream",
     "text": [
      "QR code is generated!\n"
     ]
    }
   ],
   "source": [
    "x=[\"prince kumar\",\"Mamta sharma\",\"pappu kumar\",\"priya sharma\",\"priyanshu kumar\"]\n",
    "qr=qrcode.make(x)\n",
    "qr.save(\"fimly_Member.png\")\n",
    "print(\"QR code is generated!\")"
   ]
  },
  {
   "cell_type": "code",
   "execution_count": null,
   "id": "f9beff9d",
   "metadata": {},
   "outputs": [],
   "source": []
  }
 ],
 "metadata": {
  "kernelspec": {
   "display_name": "Python 3 (ipykernel)",
   "language": "python",
   "name": "python3"
  },
  "language_info": {
   "codemirror_mode": {
    "name": "ipython",
    "version": 3
   },
   "file_extension": ".py",
   "mimetype": "text/x-python",
   "name": "python",
   "nbconvert_exporter": "python",
   "pygments_lexer": "ipython3",
   "version": "3.10.9"
  }
 },
 "nbformat": 4,
 "nbformat_minor": 5
}
